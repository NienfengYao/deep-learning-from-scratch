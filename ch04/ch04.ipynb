{
 "cells": [
  {
   "cell_type": "markdown",
   "metadata": {},
   "source": [
    "# Issue\n",
    "* 4.2.4  \n",
    "  * Why we don't need delta here. Just like 4.2.2"
   ]
  },
  {
   "cell_type": "code",
   "execution_count": 36,
   "metadata": {},
   "outputs": [],
   "source": [
    "import numpy as np\n",
    "import matplotlib.pylab as plt\n",
    "%matplotlib inline"
   ]
  },
  {
   "cell_type": "markdown",
   "metadata": {},
   "source": [
    "# 4.2.1 均方誤差 (mean sauared error)\n",
    "\n",
    "E = 1/2 $\\sum_{k}{(y_k-t_k)^2}$\n",
    "\n",
    "k: 資料的維度  \n",
    "yk: 神經網路的輸出  \n",
    "tk: 正確答案標籤 (label)\n"
   ]
  },
  {
   "cell_type": "code",
   "execution_count": 26,
   "metadata": {},
   "outputs": [
    {
     "name": "stdout",
     "output_type": "stream",
     "text": [
      "ex1: 0.097500\n",
      "ex2: 0.597500\n"
     ]
    }
   ],
   "source": [
    "# y 是 softmax 的輸出\n",
    "# t 是訓練資料的 label, 用 1 表示是正確答案。one-hot 表示式\n",
    "y = [0.1, 0.05, 0.6, 0.0, 0.05, 0.1, 0.0, 0.1, 0.0, 0.0]\n",
    "t = [0, 0, 1, 0, 0, 0, 0, 0, 0, 0]\n",
    "\n",
    "def mean_squared_error(y, t):\n",
    "    return 0.5 * np.sum((y-t)**2)\n",
    "\n",
    "# ex1: 假設訓練結果，「2」的機率最高時 (0.6)\n",
    "print(\"ex1: %f\" % mean_squared_error(np.array(y), np.array(t)))\n",
    "# ex2: 假設訓練結果，「7」的機率最高時 (0.6)\n",
    "y_7 = [0.1, 0.05, 0.1, 0.0, 0.05, 0.1, 0.0, 0.6, 0.0, 0.0]\n",
    "print(\"ex2: %f\" % mean_squared_error(np.array(y_7), np.array(t)))\n"
   ]
  },
  {
   "cell_type": "markdown",
   "metadata": {},
   "source": [
    "# 4.2.2 交叉熵誤差 (cross entropy error)\n",
    "\n",
    "E = -$\\sum_{k}{(t_k * log(y_k))}$\n",
    "\n",
    "log 是底為 e 的自然對數 ($log_e$)  \n",
    "tk 是只有正確答案標籤的索引值為 1，其餘為 0 (one-hot)  \n",
    "實質上此式只有談算對應正確答案標籤為 1 的輸出之自然對數"
   ]
  },
  {
   "cell_type": "code",
   "execution_count": 27,
   "metadata": {},
   "outputs": [
    {
     "name": "stdout",
     "output_type": "stream",
     "text": [
      "ex1: 0.510825\n",
      "ex2: 2.302584\n"
     ]
    }
   ],
   "source": [
    "# 進行 np.log 運算時，要先加上微小值 delta 再計算。因為當 np.log(0) 時，np.log(0) 會變成代表負無限大的 -inf，這樣就無法繼續運算，所以才\n",
    "# 會加上微小值，防範發上無限大的情況。\n",
    "def cross_entropy_error(y, t):\n",
    "    delta = 1e-7 # 10的負7次方\n",
    "    return -np.sum(t * np.log(y + delta))\n",
    "\n",
    "# ex1: 假設訓練結果，「2」的機率最高時 (0.6)\n",
    "print(\"ex1: %f\" % cross_entropy_error(np.array(y), np.array(t)))\n",
    "# ex2: 假設訓練結果，「7」的機率最高時 (0.6)\n",
    "print(\"ex2: %f\" % cross_entropy_error(np.array(y_7), np.array(t)))"
   ]
  },
  {
   "cell_type": "markdown",
   "metadata": {},
   "source": [
    "# 4.2.3 小批次學習\n",
    "\n",
    "前面說明的損失函數範例，討論的是一個資料的損失函數。如果想求出訓練資料的**所有的損失函數和平均**，假設是交叉熵誤差時，可以寫成以下算式\n",
    "\n",
    "E = -1/N $\\sum_{n}\\sum_{k}{(t_{nk} * log(y_{nk}))}$\n",
    "\n",
    "假設資料有 N 筆，而 $t_{nk}$ 代表第 n 筆資料的第 k 個特徵值 ($y_{nk}$ 是神經網路輸出，$t_{nk}$ 是正確答案標籤)  \n",
    "此式只是把之前的式子擴充成 N 筆資料而已。但最後還要除以 N，進行正規化。也就是求出「平均損失函數」"
   ]
  },
  {
   "cell_type": "code",
   "execution_count": 33,
   "metadata": {},
   "outputs": [
    {
     "name": "stdout",
     "output_type": "stream",
     "text": [
      "(60000, 784)\n",
      "(60000, 10)\n",
      "[27853 24801 17372 20460 24940 23674 36258 43073 14894 40360]\n"
     ]
    }
   ],
   "source": [
    "# ex: 60,000 張訓練資料中，隨機挑選出 10 張\n",
    "\n",
    "import sys, os\n",
    "sys.path.append(os.pardir)\n",
    "import numpy as np\n",
    "from dataset.mnist import load_mnist\n",
    "\n",
    "(x_train, t_train), (x_test, t_test) = load_mnist(normalize=True, one_hot_label=True)\n",
    "print(x_train.shape)\n",
    "print(t_train.shape)\n",
    "\n",
    "train_size = x_train.shape[0]\n",
    "batch_size = 10\n",
    "batch_mask = np.random.choice(train_size, batch_size)\n",
    "# print(batch_mask)\n",
    "x_batch = x_train[batch_mask]\n",
    "t_batch = t_train[batch_mask]\n",
    "\n",
    "# 其中，np.random.choice() 可以從指定的數字中，隨機取出想要的數量。\n",
    "print(np.random.choice(60000, 10))\n",
    "# print(x_batch)"
   ]
  },
  {
   "cell_type": "markdown",
   "metadata": {},
   "source": [
    "# 4.2.4 以「批次對應版」執行交叉熵誤差"
   ]
  },
  {
   "cell_type": "code",
   "execution_count": 31,
   "metadata": {},
   "outputs": [],
   "source": [
    "# why we don't need delta here?\n",
    "def cross_entropy_error(y, t):\n",
    "    if y.ndim == 1:\n",
    "        t = t.reshape(1, t.xize)\n",
    "        y = y.reshape(1, y.xize)\n",
    "\n",
    "    batch_size = y.shape[0]\n",
    "    return -np.sum(t * np.log(y)) / batch_size"
   ]
  },
  {
   "cell_type": "markdown",
   "metadata": {},
   "source": [
    "# 4.3.1 微分\n",
    "\n",
    "$\\frac{df(x)}{dx} = \\lim_{h\\to0} \\frac{f(x+h)-f(x)}h$\n",
    "\n",
    "* 這種利用微小差分來計算微分的方式，稱為數值微分(numerical differentiation)\n",
    "  * 數值微分含有誤差，所以計算 (x+h) 與 (x-h) 的函數 f 差分，可以減少誤差\n",
    "  * 這裡的差分是以 x 為主來計算前後的差分，所以稱為中央差分\n",
    "* 展開算試，計算微分，稱為解析 (analytic)。解析微分可以算出不含誤差的「真微分」\n",
    "  * ex: $y=x^2$ => $\\frac{dy}{dx}=2x$ => 當 x=2 的 y 之微分 = 4"
   ]
  },
  {
   "cell_type": "code",
   "execution_count": 39,
   "metadata": {},
   "outputs": [],
   "source": [
    "# 中央差分\n",
    "def numerical_diff(f, x):\n",
    "    h = 1e-4 # 0.0001\n",
    "    return (f(x+h) - f(x-h)) / (2*h) "
   ]
  },
  {
   "cell_type": "markdown",
   "metadata": {},
   "source": [
    "# 4.3.2 數值微分的範例\n",
    "\n",
    "$ y = 0.01x^2 + 0.1x$"
   ]
  },
  {
   "cell_type": "code",
   "execution_count": 40,
   "metadata": {},
   "outputs": [
    {
     "data": {
      "image/png": "[encoded data removed]",
      "text/plain": [
       "<Figure size 432x288 with 1 Axes>"
      ]
     },
     "metadata": {},
     "output_type": "display_data"
    },
    {
     "name": "stdout",
     "output_type": "stream",
     "text": [
      "0.1999999999990898\n",
      "0.2999999999986347\n"
     ]
    }
   ],
   "source": [
    "def function_1(x):\n",
    "    return 0.01*x**2 + 0.1*x\n",
    "\n",
    "x = np.arange(0.0, 20.0, 0.1) # 從 0 到 20，以 0.1 為單位的 x 陣列\n",
    "y = function_1(x)\n",
    "plt.xlabel(\"x\")\n",
    "plt.ylabel(\"f(x)\")\n",
    "plt.plot(x, y)\n",
    "plt.show()\n",
    "\n",
    "# 此式的解析解是 0.02x + 0.1。因此 x=5、x=10 的「真微分」是 0.2、 0.3\n",
    "# 與這裡計算出的微分值非常接近，幾乎可視為相同數值的極小誤差\n",
    "print(numerical_diff(function_1, 5))\n",
    "print(numerical_diff(function_1, 10))"
   ]
  },
  {
   "cell_type": "markdown",
   "metadata": {},
   "source": [
    "# 4.3.3 偏微分\n",
    "\n",
    "$f(x_0, x_1) = x_0^2 + x_1^2$"
   ]
  },
  {
   "cell_type": "code",
   "execution_count": null,
   "metadata": {},
   "outputs": [],
   "source": [
    "def function_2(x):\n",
    "    # return x[0]**2 + x[1]**2\n",
    "    return np.sum(x**2)"
   ]
  },
  {
   "cell_type": "code",
   "execution_count": null,
   "metadata": {},
   "outputs": [],
   "source": []
  },
  {
   "cell_type": "code",
   "execution_count": null,
   "metadata": {},
   "outputs": [],
   "source": []
  }
 ],
 "metadata": {
  "kernelspec": {
   "display_name": "Python 3",
   "language": "python",
   "name": "python3"
  },
  "language_info": {
   "codemirror_mode": {
    "name": "ipython",
    "version": 3
   },
   "file_extension": ".py",
   "mimetype": "text/x-python",
   "name": "python",
   "nbconvert_exporter": "python",
   "pygments_lexer": "ipython3",
   "version": "3.6.4"
  }
 },
 "nbformat": 4,
 "nbformat_minor": 2
}
