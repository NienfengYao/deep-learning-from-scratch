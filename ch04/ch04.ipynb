{
 "cells": [
  {
   "cell_type": "code",
   "execution_count": 1,
   "metadata": {},
   "outputs": [],
   "source": [
    "import numpy as np\n",
    "import matplotlib.pylab as plt\n",
    "%matplotlib inline"
   ]
  },
  {
   "cell_type": "markdown",
   "metadata": {},
   "source": [
    "# 4.2.1 均方誤差 (mean sauared error)\n",
    "\n",
    "E = 1/2 $\\sum_{k}{(y_k-t_k)^2}$\n",
    "\n",
    "k: 資料的維度  \n",
    "yk: 神經網路的輸出  \n",
    "tk: 正確答案標籤 (label)\n"
   ]
  },
  {
   "cell_type": "code",
   "execution_count": 2,
   "metadata": {},
   "outputs": [
    {
     "name": "stdout",
     "output_type": "stream",
     "text": [
      "ex1: 0.097500\n",
      "ex2: 0.597500\n"
     ]
    }
   ],
   "source": [
    "# y 是 softmax 的輸出\n",
    "# t 是訓練資料的 label, 用 1 表示是正確答案。one-hot 表示式\n",
    "y = [0.1, 0.05, 0.6, 0.0, 0.05, 0.1, 0.0, 0.1, 0.0, 0.0]\n",
    "t = [0, 0, 1, 0, 0, 0, 0, 0, 0, 0]\n",
    "\n",
    "def mean_squared_error(y, t):\n",
    "    return 0.5 * np.sum((y-t)**2)\n",
    "\n",
    "# ex1: 假設訓練結果，「2」的機率最高時 (0.6)\n",
    "print(\"ex1: %f\" % mean_squared_error(np.array(y), np.array(t)))\n",
    "# ex2: 假設訓練結果，「7」的機率最高時 (0.6)\n",
    "y_7 = [0.1, 0.05, 0.1, 0.0, 0.05, 0.1, 0.0, 0.6, 0.0, 0.0]\n",
    "print(\"ex2: %f\" % mean_squared_error(np.array(y_7), np.array(t)))\n"
   ]
  },
  {
   "cell_type": "markdown",
   "metadata": {},
   "source": [
    "# 4.2.2 交叉熵誤差 (cross entropy error)\n",
    "\n",
    "E = -$\\sum_{k}{(t_k * log(y_k))}$\n",
    "\n",
    "log 是底為 e 的自然對數 ($log_e$)  \n",
    "tk 是只有正確答案標籤的索引值為 1，其餘為 0 (one-hot)  \n",
    "實質上此式只有談算對應正確答案標籤為 1 的輸出之自然對數"
   ]
  },
  {
   "cell_type": "code",
   "execution_count": 3,
   "metadata": {},
   "outputs": [
    {
     "name": "stdout",
     "output_type": "stream",
     "text": [
      "ex1: 0.510825\n",
      "ex2: 2.302584\n"
     ]
    }
   ],
   "source": [
    "# 進行 np.log 運算時，要先加上微小值 delta 再計算。因為當 np.log(0) 時，np.log(0) 會變成代表負無限大的 -inf，這樣就無法繼續運算，所以才\n",
    "# 會加上微小值，防範發上無限大的情況。\n",
    "def cross_entropy_error(y, t):\n",
    "    delta = 1e-7 # 10的負7次方\n",
    "    return -np.sum(t * np.log(y + delta))\n",
    "\n",
    "# ex1: 假設訓練結果，「2」的機率最高時 (0.6)\n",
    "print(\"ex1: %f\" % cross_entropy_error(np.array(y), np.array(t)))\n",
    "# ex2: 假設訓練結果，「7」的機率最高時 (0.6)\n",
    "print(\"ex2: %f\" % cross_entropy_error(np.array(y_7), np.array(t)))"
   ]
  },
  {
   "cell_type": "markdown",
   "metadata": {},
   "source": [
    "# 4.2.3 小批次學習\n",
    "\n",
    "前面說明的損失函數範例，討論的是一個資料的損失函數。如果想求出訓練資料的**所有的損失函數和平均**，假設是交叉熵誤差時，可以寫成以下算式\n",
    "\n",
    "E = -1/N $\\sum_{n}\\sum_{k}{(t_{nk} * log(y_{nk}))}$\n",
    "\n",
    "假設資料有 N 筆，而 $t_{nk}$ 代表第 n 筆資料的第 k 個特徵值 ($y_{nk}$ 是神經網路輸出，$t_{nk}$ 是正確答案標籤)  \n",
    "此式只是把之前的式子擴充成 N 筆資料而已。但最後還要除以 N，進行正規化。也就是求出「平均損失函數」"
   ]
  },
  {
   "cell_type": "code",
   "execution_count": 4,
   "metadata": {},
   "outputs": [
    {
     "name": "stdout",
     "output_type": "stream",
     "text": [
      "(60000, 784)\n",
      "(60000, 10)\n",
      "[22124 17796 46472 34320 39241 44743 35037 46928  7732 11428]\n"
     ]
    }
   ],
   "source": [
    "# ex: 60,000 張訓練資料中，隨機挑選出 10 張\n",
    "\n",
    "import sys, os\n",
    "sys.path.append(os.pardir)\n",
    "import numpy as np\n",
    "from dataset.mnist import load_mnist\n",
    "\n",
    "(x_train, t_train), (x_test, t_test) = load_mnist(normalize=True, one_hot_label=True)\n",
    "print(x_train.shape)\n",
    "print(t_train.shape)\n",
    "\n",
    "train_size = x_train.shape[0]\n",
    "batch_size = 10\n",
    "batch_mask = np.random.choice(train_size, batch_size)\n",
    "# print(batch_mask)\n",
    "x_batch = x_train[batch_mask]\n",
    "t_batch = t_train[batch_mask]\n",
    "\n",
    "# 其中，np.random.choice() 可以從指定的數字中，隨機取出想要的數量。\n",
    "print(np.random.choice(60000, 10))\n",
    "# print(x_batch)"
   ]
  },
  {
   "cell_type": "markdown",
   "metadata": {},
   "source": [
    "# 4.2.4 以「批次對應版」執行交叉熵誤差"
   ]
  },
  {
   "cell_type": "code",
   "execution_count": 5,
   "metadata": {},
   "outputs": [],
   "source": [
    "# why we don't need delta here?\n",
    "def cross_entropy_error(y, t):\n",
    "    if y.ndim == 1:\n",
    "        t = t.reshape(1, t.xize)\n",
    "        y = y.reshape(1, y.xize)\n",
    "\n",
    "    batch_size = y.shape[0]\n",
    "    return -np.sum(t * np.log(y)) / batch_size"
   ]
  },
  {
   "cell_type": "markdown",
   "metadata": {},
   "source": [
    "# 4.3.1 微分\n",
    "\n",
    "$\\frac{df(x)}{dx} = \\lim_{h\\to0} \\frac{f(x+h)-f(x)}h$\n",
    "\n",
    "* 這種利用微小差分來計算微分的方式，稱為數值微分(numerical differentiation)\n",
    "  * 數值微分含有誤差，所以計算 (x+h) 與 (x-h) 的函數 f 差分，可以減少誤差\n",
    "  * 這裡的差分是以 x 為主來計算前後的差分，所以稱為中央差分\n",
    "* 展開算試，計算微分，稱為解析 (analytic)。解析微分可以算出不含誤差的「真微分」\n",
    "  * ex: $y=x^2$ => $\\frac{dy}{dx}=2x$ => 當 x=2 的 y 之微分 = 4"
   ]
  },
  {
   "cell_type": "code",
   "execution_count": 6,
   "metadata": {},
   "outputs": [],
   "source": [
    "# 中央差分\n",
    "def numerical_diff(f, x):\n",
    "    h = 1e-4 # 0.0001\n",
    "    return (f(x+h) - f(x-h)) / (2*h) "
   ]
  },
  {
   "cell_type": "markdown",
   "metadata": {},
   "source": [
    "# 4.3.2 數值微分的範例\n",
    "\n",
    "$ y = 0.01x^2 + 0.1x$"
   ]
  },
  {
   "cell_type": "code",
   "execution_count": 7,
   "metadata": {},
   "outputs": [
    {
     "data": {
      "image/png": "[encoded data removed]",
      "text/plain": [
       "<Figure size 432x288 with 1 Axes>"
      ]
     },
     "metadata": {},
     "output_type": "display_data"
    },
    {
     "name": "stdout",
     "output_type": "stream",
     "text": [
      "0.1999999999990898\n",
      "0.2999999999986347\n"
     ]
    }
   ],
   "source": [
    "def function_1(x):\n",
    "    return 0.01*x**2 + 0.1*x\n",
    "\n",
    "x = np.arange(0.0, 20.0, 0.1) # 從 0 到 20，以 0.1 為單位的 x 陣列\n",
    "y = function_1(x)\n",
    "plt.xlabel(\"x\")\n",
    "plt.ylabel(\"f(x)\")\n",
    "plt.plot(x, y)\n",
    "plt.show()\n",
    "\n",
    "# 此式的解析解是 0.02x + 0.1。因此 x=5、x=10 的「真微分」是 0.2、 0.3\n",
    "# 與這裡計算出的微分值非常接近，幾乎可視為相同數值的極小誤差\n",
    "print(numerical_diff(function_1, 5))\n",
    "print(numerical_diff(function_1, 10))"
   ]
  },
  {
   "cell_type": "markdown",
   "metadata": {},
   "source": [
    "# 4.3.3 偏微分\n",
    "\n",
    "$f(x_0, x_1) = x_0^2 + x_1^2$\n",
    "\n",
    "Ex1: 當 $x_0=3、x_1=4$ 時，計算$x_0$的偏微分。$\\frac{\\partial f}{\\partial x_0} = 2x_0 = 6$  \n",
    "Ex2: 當 $x_0=3、x_1=4$ 時，計算$x_1$的偏微分。$\\frac{\\partial f}{\\partial x_1} = 2x_1 = 8$  \n",
    "\n",
    "這種偏微分與一個變數的微分一樣，都是計算某個位置的斜率。但是，偏微分是在多個變數中，鎖定成為目標的某一個變數，其他變數固定成某個數值。"
   ]
  },
  {
   "cell_type": "code",
   "execution_count": 8,
   "metadata": {},
   "outputs": [
    {
     "name": "stdout",
     "output_type": "stream",
     "text": [
      "6.00000000000378\n",
      "7.999999999999119\n"
     ]
    }
   ],
   "source": [
    "def function_2(x):\n",
    "    # return x[0]**2 + x[1]**2\n",
    "    return np.sum(x**2)\n",
    "\n",
    "# Ex1，固定 x1=4，求出在 x0=3 時的斜率\n",
    "def function_tmp1(x0):\n",
    "    return x0**2 + 4.0**2\n",
    "\n",
    "print(numerical_diff(function_tmp1, 3.0))\n",
    "\n",
    "# Ex2，固定 x0=3，求出在 x1=4 時的斜率\n",
    "def function_tmp2(x1):\n",
    "    return 3.0**2 + x1**2\n",
    "\n",
    "print(numerical_diff(function_tmp2, 4.0))"
   ]
  },
  {
   "cell_type": "markdown",
   "metadata": {},
   "source": [
    "# 4.4 梯度\n",
    "\n",
    "接下來，希望可以一次計算出 $X_0$ 與 $X_1$ 的偏微分。  \n",
    "假設 $X_0=3$、$X_1=4$，要統一進行 ($x_0$, $x_1$) 兩者的偏微分時，可以當成是要計算 ($\\frac{\\partial f}{\\partial x_0}$, $\\frac{\\partial f}{\\partial x_1}$)  \n",
    "而($\\frac{\\partial f}{\\partial x_0}$, $\\frac{\\partial f}{\\partial x_1}$)這種把全部變數的偏微分當作向量來統一的方式，稱為**\"梯度 (gradient)\"**"
   ]
  },
  {
   "cell_type": "code",
   "execution_count": 19,
   "metadata": {},
   "outputs": [
    {
     "name": "stdout",
     "output_type": "stream",
     "text": [
      "[6. 8.]\n",
      "[0. 4.]\n",
      "[6. 0.]\n"
     ]
    }
   ],
   "source": [
    "def numerical_gradient(f, x):\n",
    "    h = 1e-4 # 0.0001\n",
    "    grad = np.zeros_like(x) # 產生和 x 相同形狀的陣列，其元素初始值皆為 0 \n",
    "    \n",
    "    for idx in range(x.size):\n",
    "        tmp_val = x[idx]\n",
    "        # 計算 f(x+h)\n",
    "        x[idx] = tmp_val + h\n",
    "        fxh1 = f(x)\n",
    "        \n",
    "        # 計算 f(x-h)\n",
    "        x[idx] = tmp_val - h\n",
    "        fxh2 = f(x)\n",
    "        \n",
    "        grad[idx] = (fxh1 - fxh2) / (2*h)\n",
    "        x[idx] = tmp_val # 恢復原值\n",
    "        \n",
    "    return grad\n",
    "\n",
    "# 實際算出點 (3,4)、(0,2)、(3,0) 的梯度\n",
    "print(numerical_gradient(function_2, np.array([3.0, 4.0])))\n",
    "print(numerical_gradient(function_2, np.array([0.0, 2.0])))\n",
    "print(numerical_gradient(function_2, np.array([3.0, 0.0])))\n"
   ]
  },
  {
   "cell_type": "markdown",
   "metadata": {},
   "source": [
    "# 4.4.1 梯度法\n",
    "\n",
    "* 梯度是在各個地點，指出減少最多函數值的方向。因此，無法保証梯度指出的位置是否真的是函數的最小值，以及這個方向是否正確。\n",
    "* 儘管梯度的方向不見得能指出最小值，但是朝向該方向，卻能減少最多的函數值。因此，在討論最小值的位置問題，亦或尋找盡量趨近最小值的函數位置時，必需把梯度當作線索來決定前進方向。\n",
    "* 梯度法是從目前的位置往梯度方向，只前進一定的距離，接著同樣計算出移動後位置的梯度，再朝者梯度方向前進，重複這種步驟，往梯度的方向移動，就是梯度法 (gradient method)\n",
    "\n",
    "$x_0 = x_0 - \\eta\\frac{\\partial f}{\\partial x_0}$  \n",
    "$x_1 = x_1 - \\eta\\frac{\\partial f}{\\partial x_1}$  \n",
    "\n",
    "$\\eta$ 代表更新的量，稱作學習率 (learning rate)。\n",
    "\n",
    "* 在神經網路的學習中，通常會一邊調整學習率，一邊確認是否正確學習。\n",
    "* 學習率太大或太小，都無法得到良好的結果。因此，設定適當的學習率，是非常重要的問題。\n",
    "  * 學習率太大，會往大數值擴散。\n",
    "  * 學習率太小，幾乎不會更新就結束。"
   ]
  },
  {
   "cell_type": "code",
   "execution_count": 24,
   "metadata": {},
   "outputs": [
    {
     "name": "stdout",
     "output_type": "stream",
     "text": [
      "[-6.11110793e-10  8.14814391e-10]\n",
      "[-2.58983747e+13 -1.29524862e+12]\n",
      "[-2.99999994  3.99999992]\n"
     ]
    }
   ],
   "source": [
    "# f: 要最佳化的函數\n",
    "# init_x: 初始值\n",
    "# lr: learning rate\n",
    "# step_number: 梯度法重複的次數\n",
    "def gradient_descent(f, init_x, lr=0.01, step_num=100):\n",
    "    x = init_x\n",
    "    \n",
    "    for i in range(step_num):\n",
    "        grad = numerical_gradient(f, x)\n",
    "        x -= lr * grad\n",
    "        \n",
    "    return x\n",
    "\n",
    "# 假設預設值為 (-3.0, 4.0)，做用梯度法，求出 f(x0, x1) = x0^2 + x1^2 的最小值\n",
    "init_x = np.array([-3.0, 4.0])\n",
    "print(gradient_descent(function_2, init_x=init_x, lr=0.1, step_num=100))\n",
    "\n",
    "# 學習率太大或太小，都無法得到良好的結果\n",
    "init_x = np.array([-3.0, 4.0])\n",
    "print(gradient_descent(function_2, init_x=init_x, lr=10.0, step_num=100))\n",
    "init_x = np.array([-3.0, 4.0])\n",
    "print(gradient_descent(function_2, init_x=init_x, lr=1e-10, step_num=100))"
   ]
  },
  {
   "cell_type": "markdown",
   "metadata": {},
   "source": [
    "# 4.4.2 神經網路的梯度\n",
    "* 假設有個形狀只有 2x3、權重為 W 的神經網路，以 L 代表損失函數。此時，可以用 $\\frac{\\partial L}{\\partial W}$ 來表示梯度。\n",
    "\n",
    "$$ W = \\left( \\begin{array}{ccc}\n",
    "    w_{11} & w_{21} & w_{31} \\\\\n",
    "    w_{12} & w_{22} & w_{32}\n",
    "\\end{array}\\right)$$\n",
    "\n",
    "$$ \\frac{\\partial L}{\\partial W} = \\left( \\begin{array}{ccc}\n",
    "    \\frac{\\partial L}{\\partial w_{11}} & \\frac{\\partial L}{\\partial w_{21}} & \\frac{\\partial L}{\\partial w_{31}} \\\\\n",
    "    \\frac{\\partial L}{\\partial w_{12}} & \\frac{\\partial L}{\\partial w_{22}} & \\frac{\\partial L}{\\partial w_{32}}\n",
    "\\end{array}\\right)$$"
   ]
  },
  {
   "cell_type": "code",
   "execution_count": 33,
   "metadata": {},
   "outputs": [
    {
     "name": "stdout",
     "output_type": "stream",
     "text": [
      "初始的權重參數: [[ 1.66306817 -0.42290058 -1.26053169]\n",
      " [ 1.20758069  1.4093993  -0.33296233]]\n",
      "預測值: [ 2.08466353  1.01471902 -1.05598511]\n",
      "loss:  3.4672709849310173\n",
      "[[ 0.43281089  0.14846606 -0.58127696]\n",
      " [ 0.64921634  0.22269909 -0.87191544]]\n"
     ]
    }
   ],
   "source": [
    "import sys, os\n",
    "sys.path.append(os.pardir)  # 親ディレクトリのファイルをインポートするための設定\n",
    "import numpy as np\n",
    "from common.functions import softmax, cross_entropy_error\n",
    "from common.gradient import numerical_gradient\n",
    "\n",
    "\n",
    "class simpleNet:\n",
    "    def __init__(self):\n",
    "        self.W = np.random.randn(2,3)\n",
    "\n",
    "    def predict(self, x):\n",
    "        return np.dot(x, self.W)\n",
    "\n",
    "    def loss(self, x, t):\n",
    "        z = self.predict(x)\n",
    "        y = softmax(z)\n",
    "        loss = cross_entropy_error(y, t)\n",
    "\n",
    "        return loss\n",
    "\n",
    "x = np.array([0.6, 0.9])\n",
    "t = np.array([0, 0, 1]) # 正確答案標籤\n",
    "\n",
    "# 執行 simpleNet 類別\n",
    "net = simpleNet()\n",
    "print(\"初始的權重參數:\", net.W) # 初始的權重參數\n",
    "\n",
    "p = net.predict(x)\n",
    "print(\"預測值:\", p) # 初始的權重參數\n",
    "\n",
    "print(\"loss: \", net.loss(x, t))\n",
    "\n",
    "f = lambda w: net.loss(x, t)\n",
    "dW = numerical_gradient(f, net.W)\n",
    "print(dW)"
   ]
  },
  {
   "cell_type": "markdown",
   "metadata": {},
   "source": [
    "# 4.5.2 執行小批次學習"
   ]
  },
  {
   "cell_type": "code",
   "execution_count": 36,
   "metadata": {},
   "outputs": [
    {
     "name": "stdout",
     "output_type": "stream",
     "text": [
      "train_size= 60000\n",
      "iter_per_epoch= 600.0\n",
      "i= 0\n",
      "train acc, test acc | 0.09751666666666667, 0.0974\n",
      "i= 600\n",
      "train acc, test acc | 0.7863166666666667, 0.7893\n",
      "i= 1200\n",
      "train acc, test acc | 0.87195, 0.8766\n",
      "i= 1800\n",
      "train acc, test acc | 0.8974, 0.9014\n",
      "i= 2400\n",
      "train acc, test acc | 0.90845, 0.9107\n",
      "i= 3000\n",
      "train acc, test acc | 0.9151166666666667, 0.916\n",
      "i= 3600\n",
      "train acc, test acc | 0.9196, 0.9223\n",
      "i= 4200\n",
      "train acc, test acc | 0.9242, 0.9261\n",
      "i= 4800\n",
      "train acc, test acc | 0.9282, 0.9286\n",
      "i= 5400\n",
      "train acc, test acc | 0.9305166666666667, 0.9309\n",
      "i= 6000\n",
      "train acc, test acc | 0.9339166666666666, 0.9346\n",
      "i= 6600\n",
      "train acc, test acc | 0.9365666666666667, 0.9366\n",
      "i= 7200\n",
      "train acc, test acc | 0.9395166666666667, 0.9396\n",
      "i= 7800\n",
      "train acc, test acc | 0.9414833333333333, 0.9416\n",
      "i= 8400\n",
      "train acc, test acc | 0.9437166666666666, 0.9425\n",
      "i= 9000\n",
      "train acc, test acc | 0.9442666666666667, 0.9443\n",
      "i= 9600\n",
      "train acc, test acc | 0.9472166666666667, 0.9456\n"
     ]
    },
    {
     "data": {
      "image/png": "[encoded data removed]",
      "text/plain": [
       "<Figure size 432x288 with 1 Axes>"
      ]
     },
     "metadata": {},
     "output_type": "display_data"
    }
   ],
   "source": [
    "import sys, os\n",
    "sys.path.append(os.pardir)  # 親ディレクトリのファイルをインポートするための設定\n",
    "import numpy as np\n",
    "import matplotlib.pyplot as plt\n",
    "from dataset.mnist import load_mnist\n",
    "from two_layer_net import TwoLayerNet\n",
    "\n",
    "# データの読み込み\n",
    "(x_train, t_train), (x_test, t_test) = load_mnist(normalize=True, one_hot_label=True)\n",
    "\n",
    "network = TwoLayerNet(input_size=784, hidden_size=50, output_size=10)\n",
    "\n",
    "iters_num = 10000  # 繰り返しの回数を適宜設定する\n",
    "train_size = x_train.shape[0]\n",
    "batch_size = 100\n",
    "learning_rate = 0.1\n",
    "\n",
    "train_loss_list = []\n",
    "train_acc_list = []\n",
    "test_acc_list = []\n",
    "\n",
    "iter_per_epoch = max(train_size / batch_size, 1)\n",
    "\n",
    "for i in range(iters_num):\n",
    "    batch_mask = np.random.choice(train_size, batch_size)\n",
    "    x_batch = x_train[batch_mask]\n",
    "    t_batch = t_train[batch_mask]\n",
    "    \n",
    "    # 勾配の計算\n",
    "    #grad = network.numerical_gradient(x_batch, t_batch)\n",
    "    grad = network.gradient(x_batch, t_batch)\n",
    "    \n",
    "    # パラメータの更新\n",
    "    for key in ('W1', 'b1', 'W2', 'b2'):\n",
    "        network.params[key] -= learning_rate * grad[key]\n",
    "    \n",
    "    loss = network.loss(x_batch, t_batch)\n",
    "    train_loss_list.append(loss)\n",
    "    \n",
    "    if i % iter_per_epoch == 0:\n",
    "        train_acc = network.accuracy(x_train, t_train)\n",
    "        test_acc = network.accuracy(x_test, t_test)\n",
    "        train_acc_list.append(train_acc)\n",
    "        test_acc_list.append(test_acc)\n",
    "        print(\"train acc, test acc | \" + str(train_acc) + \", \" + str(test_acc))\n",
    "\n",
    "# グラフの描画\n",
    "markers = {'train': 'o', 'test': 's'}\n",
    "x = np.arange(len(train_acc_list))\n",
    "plt.plot(x, train_acc_list, label='train acc')\n",
    "plt.plot(x, test_acc_list, label='test acc', linestyle='--')\n",
    "plt.xlabel(\"epochs\")\n",
    "plt.ylabel(\"accuracy\")\n",
    "plt.ylim(0, 1.0)\n",
    "plt.legend(loc='lower right')\n",
    "plt.show()"
   ]
  },
  {
   "cell_type": "code",
   "execution_count": null,
   "metadata": {},
   "outputs": [],
   "source": []
  }
 ],
 "metadata": {
  "kernelspec": {
   "display_name": "Python 3",
   "language": "python",
   "name": "python3"
  },
  "language_info": {
   "codemirror_mode": {
    "name": "ipython",
    "version": 3
   },
   "file_extension": ".py",
   "mimetype": "text/x-python",
   "name": "python",
   "nbconvert_exporter": "python",
   "pygments_lexer": "ipython3",
   "version": "3.6.4"
  }
 },
 "nbformat": 4,
 "nbformat_minor": 2
}
